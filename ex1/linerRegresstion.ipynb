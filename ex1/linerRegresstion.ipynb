{
 "cells": [
  {
   "cell_type": "code",
   "execution_count": 286,
   "id": "4aa57265",
   "metadata": {},
   "outputs": [],
   "source": [
    "import numpy as np \n",
    "import pandas as pd\n",
    "import matplotlib.pyplot as plt\n",
    "import seaborn as sns"
   ]
  },
  {
   "cell_type": "markdown",
   "id": "68e2ae74-41aa-4a98-a196-7762bc9fdf3f",
   "metadata": {},
   "source": [
    "# Linear regression with one variable"
   ]
  },
  {
   "cell_type": "code",
   "execution_count": 287,
   "id": "1ca4c704",
   "metadata": {},
   "outputs": [],
   "source": [
    "df = pd.read_csv(r'G:\\360MoveData\\Users\\Administrator\\Desktop\\path_data\\path_jupyter\\ex1\\ex1data1.txt',names=['population','profit'])"
   ]
  },
  {
   "cell_type": "code",
   "execution_count": 288,
   "id": "ad3c1005",
   "metadata": {},
   "outputs": [
    {
     "data": {
      "text/html": [
       "<div>\n",
       "<style scoped>\n",
       "    .dataframe tbody tr th:only-of-type {\n",
       "        vertical-align: middle;\n",
       "    }\n",
       "\n",
       "    .dataframe tbody tr th {\n",
       "        vertical-align: top;\n",
       "    }\n",
       "\n",
       "    .dataframe thead th {\n",
       "        text-align: right;\n",
       "    }\n",
       "</style>\n",
       "<table border=\"1\" class=\"dataframe\">\n",
       "  <thead>\n",
       "    <tr style=\"text-align: right;\">\n",
       "      <th></th>\n",
       "      <th>population</th>\n",
       "      <th>profit</th>\n",
       "    </tr>\n",
       "  </thead>\n",
       "  <tbody>\n",
       "    <tr>\n",
       "      <th>0</th>\n",
       "      <td>6.1101</td>\n",
       "      <td>17.5920</td>\n",
       "    </tr>\n",
       "    <tr>\n",
       "      <th>1</th>\n",
       "      <td>5.5277</td>\n",
       "      <td>9.1302</td>\n",
       "    </tr>\n",
       "    <tr>\n",
       "      <th>2</th>\n",
       "      <td>8.5186</td>\n",
       "      <td>13.6620</td>\n",
       "    </tr>\n",
       "    <tr>\n",
       "      <th>3</th>\n",
       "      <td>7.0032</td>\n",
       "      <td>11.8540</td>\n",
       "    </tr>\n",
       "    <tr>\n",
       "      <th>4</th>\n",
       "      <td>5.8598</td>\n",
       "      <td>6.8233</td>\n",
       "    </tr>\n",
       "  </tbody>\n",
       "</table>\n",
       "</div>"
      ],
      "text/plain": [
       "   population   profit\n",
       "0      6.1101  17.5920\n",
       "1      5.5277   9.1302\n",
       "2      8.5186  13.6620\n",
       "3      7.0032  11.8540\n",
       "4      5.8598   6.8233"
      ]
     },
     "execution_count": 288,
     "metadata": {},
     "output_type": "execute_result"
    }
   ],
   "source": [
    "df.head()"
   ]
  },
  {
   "cell_type": "code",
   "execution_count": 289,
   "id": "eb4d050c",
   "metadata": {},
   "outputs": [
    {
     "name": "stdout",
     "output_type": "stream",
     "text": [
      "<class 'pandas.core.frame.DataFrame'>\n",
      "RangeIndex: 97 entries, 0 to 96\n",
      "Data columns (total 2 columns):\n",
      " #   Column      Non-Null Count  Dtype  \n",
      "---  ------      --------------  -----  \n",
      " 0   population  97 non-null     float64\n",
      " 1   profit      97 non-null     float64\n",
      "dtypes: float64(2)\n",
      "memory usage: 1.6 KB\n"
     ]
    }
   ],
   "source": [
    "df.info()"
   ]
  },
  {
   "cell_type": "code",
   "execution_count": 290,
   "id": "86cbfd5f",
   "metadata": {},
   "outputs": [
    {
     "name": "stdout",
     "output_type": "stream",
     "text": [
      "Index(['population', 'profit'], dtype='object')\n"
     ]
    }
   ],
   "source": [
    "print(df.columns)"
   ]
  },
  {
   "cell_type": "code",
   "execution_count": 291,
   "id": "4e460f53",
   "metadata": {},
   "outputs": [
    {
     "data": {
      "text/plain": [
       "Text(0, 0.5, 'profit')"
      ]
     },
     "execution_count": 291,
     "metadata": {},
     "output_type": "execute_result"
    },
    {
     "data": {
      "image/png": "[encoded data removed]",
      "text/plain": [
       "<Figure size 640x480 with 1 Axes>"
      ]
     },
     "metadata": {},
     "output_type": "display_data"
    }
   ],
   "source": [
    "plt.figure()\n",
    "plt.scatter(df['population'],df['profit'])\n",
    "plt.title('population-profit')\n",
    "plt.xlabel('population')\n",
    "plt.ylabel('profit')"
   ]
  },
  {
   "cell_type": "code",
   "execution_count": 292,
   "id": "8b740a0f-6e32-458d-94b4-78f6e1934a48",
   "metadata": {},
   "outputs": [
    {
     "name": "stdout",
     "output_type": "stream",
     "text": [
      "<class 'pandas.core.series.Series'>\n",
      "RangeIndex: 97 entries, 0 to 96\n",
      "Series name: population\n",
      "Non-Null Count  Dtype  \n",
      "--------------  -----  \n",
      "97 non-null     float64\n",
      "dtypes: float64(1)\n",
      "memory usage: 904.0 bytes\n"
     ]
    }
   ],
   "source": [
    "x = df['population']   #按索引取出转化为矩阵是行向量\n",
    "y = df['profit']\n",
    "x.info()"
   ]
  },
  {
   "cell_type": "code",
   "execution_count": 293,
   "id": "da33e513",
   "metadata": {},
   "outputs": [],
   "source": [
    "# set data\n",
    "x = df['population']\n",
    "y = df['profit']\n",
    "# transform matrix\n",
    "# to be column vector\n",
    "x = np.matrix(x.values).T\n",
    "m = x.shape[0]\n",
    "mOnes = np.ones((m,1))\n",
    "\n",
    "x = np.concatenate((x,mOnes),axis=1)\n",
    "y = np.matrix(y.values).T"
   ]
  },
  {
   "cell_type": "code",
   "execution_count": 294,
   "id": "b251484d",
   "metadata": {},
   "outputs": [],
   "source": [
    "def linearRegression(x,w,b):\n",
    "    #:row vectot\n",
    "    \n",
    "    theta = np.matrix(np.array([w,b])).T\n",
    "    y = x * theta\n",
    "\n",
    "    #m = x.shape[0]\n",
    "    #mOnes = np.ones((m,1))\n",
    "    #X = np.concatenate((x,mOnes),axis=1)\n",
    "    #parameter = np.matrix(np.array([w,b])).T\n",
    "    #theta = np.matrix(np.array([1,1]))\n",
    "    #y_pridicte = linearRegression(x,theta[0].tolist()[0][0],theta[0].tolist()[0][1])\n",
    "    \n",
    "    # the result is column vector\n",
    "    return y"
   ]
  },
  {
   "cell_type": "code",
   "execution_count": 295,
   "id": "e7e55610-0d36-4de3-bd8f-c2215ad4477b",
   "metadata": {},
   "outputs": [],
   "source": [
    "def computeCost(realY,predicateY):\n",
    "\n",
    "    m =realY.shape[0]\n",
    "    arrCost = np.power(realY-predicateY,2)\n",
    "    cost = np.sum(arrCost)/(2*m)\n",
    "    \n",
    "    return cost "
   ]
  },
  {
   "cell_type": "code",
   "execution_count": 296,
   "id": "3468dd64",
   "metadata": {},
   "outputs": [],
   "source": [
    "def gradientDescent(x,y,iteration,learningRate):\n",
    "\n",
    "    # x:变量\n",
    "    # y:实际值\n",
    "    # iteration：迭代次数\n",
    "    # learningRate:学习率\n",
    "    \n",
    "    cost = np.zeros(iteration) #初始化成本矩阵,记录每一次迭代的成本值\n",
    "    theta = np.matrix(np.zeros([2,1])) #初始化参数矩阵[w,b],列向量\n",
    "    temp_theta = theta # 初始化暂存参数矩阵\n",
    "    \n",
    "    m = x.shape[0] # 计算输入变量长度\n",
    "\n",
    "    predicteY = linearRegression(x,theta[0,0],theta[1,0])\n",
    "    cost[0] =computeCost(y,predicteY)\n",
    "    \n",
    "    count = 1\n",
    "    while count < iteration:\n",
    "\n",
    "        distance = linearRegression(x,theta[0,0],theta[1,0])-y #计算线性模型结果与实际结果的差异\n",
    "        \n",
    "        theta[0,0] = theta[0,0] - np.multiply(distance, x[:,0]).sum()* learningRate/m\n",
    "        theta[1,0] = theta[1,0] - distance.sum()* learningRate/m\n",
    "        \n",
    "        predicteY = linearRegression(x,theta[0,0],theta[1,0])\n",
    "        cost[count] = computeCost(y,predicteY)\n",
    "        #cost = computeCost(y,predicteY)\n",
    "        \n",
    "        count = count + 1\n",
    "    \n",
    "    return cost,theta"
   ]
  },
  {
   "cell_type": "code",
   "execution_count": 297,
   "id": "731f2672-d98f-4588-8c30-0a53f9fa5406",
   "metadata": {},
   "outputs": [],
   "source": [
    "cost,theta = gradientDescent(x,y,1000,0.01)"
   ]
  },
  {
   "cell_type": "code",
   "execution_count": 298,
   "id": "7968d00e-4916-40d3-a178-1fa34564c616",
   "metadata": {
    "collapsed": true,
    "jupyter": {
     "outputs_hidden": true
    },
    "scrolled": true
   },
   "outputs": [
    {
     "data": {
      "text/plain": [
       "array([32.07273388,  6.73719046,  5.93159357,  5.90115471,  5.89522859,\n",
       "        5.89009494,  5.88500416,  5.87993248,  5.87487909,  5.86984391,\n",
       "        5.86482687,  5.85982789,  5.85484692,  5.84988389,  5.84493874,\n",
       "        5.8400114 ,  5.83510181,  5.8302099 ,  5.82533562,  5.82047889,\n",
       "        5.81563965,  5.81081784,  5.8060134 ,  5.80122627,  5.79645638,\n",
       "        5.79170367,  5.78696808,  5.78224955,  5.77754801,  5.77286341,\n",
       "        5.76819568,  5.76354477,  5.75891061,  5.75429313,  5.7496923 ,\n",
       "        5.74510803,  5.74054027,  5.73598897,  5.73145406,  5.72693549,\n",
       "        5.72243319,  5.71794711,  5.71347718,  5.70902336,  5.70458558,\n",
       "        5.70016379,  5.69575792,  5.69136792,  5.68699373,  5.6826353 ,\n",
       "        5.67829257,  5.67396548,  5.66965398,  5.665358  ,  5.6610775 ,\n",
       "        5.65681242,  5.6525627 ,  5.64832829,  5.64410913,  5.63990517,\n",
       "        5.63571635,  5.63154261,  5.62738391,  5.6232402 ,  5.6191114 ,\n",
       "        5.61499748,  5.61089837,  5.60681403,  5.60274441,  5.59868944,\n",
       "        5.59464907,  5.59062326,  5.58661195,  5.58261509,  5.57863263,\n",
       "        5.57466451,  5.57071068,  5.56677109,  5.5628457 ,  5.55893444,\n",
       "        5.55503727,  5.55115414,  5.547285  ,  5.54342979,  5.53958847,\n",
       "        5.53576098,  5.53194728,  5.52814732,  5.52436105,  5.52058841,\n",
       "        5.51682936,  5.51308385,  5.50935183,  5.50563326,  5.50192808,\n",
       "        5.49823624,  5.49455771,  5.49089242,  5.48724033,  5.4836014 ,\n",
       "        5.47997558,  5.47636282,  5.47276307,  5.46917628,  5.46560242,\n",
       "        5.46204143,  5.45849326,  5.45495788,  5.45143522,  5.44792526,\n",
       "        5.44442794,  5.44094322,  5.43747105,  5.43401138,  5.43056418,\n",
       "        5.42712939,  5.42370698,  5.42029689,  5.41689909,  5.41351352,\n",
       "        5.41014015,  5.40677893,  5.40342982,  5.40009277,  5.39676774,\n",
       "        5.39345469,  5.39015357,  5.38686434,  5.38358696,  5.38032138,\n",
       "        5.37706756,  5.37382547,  5.37059505,  5.36737627,  5.36416908,\n",
       "        5.36097345,  5.35778933,  5.35461667,  5.35145544,  5.3483056 ,\n",
       "        5.34516711,  5.34203991,  5.33892399,  5.33581928,  5.33272576,\n",
       "        5.32964339,  5.32657211,  5.3235119 ,  5.32046271,  5.3174245 ,\n",
       "        5.31439724,  5.31138088,  5.30837538,  5.30538071,  5.30239683,\n",
       "        5.2994237 ,  5.29646127,  5.29350951,  5.29056839,  5.28763786,\n",
       "        5.28471789,  5.28180843,  5.27890945,  5.27602092,  5.27314279,\n",
       "        5.27027503,  5.26741759,  5.26457045,  5.26173356,  5.2589069 ,\n",
       "        5.25609041,  5.25328407,  5.25048783,  5.24770167,  5.24492555,\n",
       "        5.24215942,  5.23940326,  5.23665702,  5.23392068,  5.23119419,\n",
       "        5.22847752,  5.22577064,  5.22307351,  5.22038609,  5.21770835,\n",
       "        5.21504026,  5.21238178,  5.20973288,  5.20709351,  5.20446365,\n",
       "        5.20184327,  5.19923232,  5.19663078,  5.19403861,  5.19145577,\n",
       "        5.18888224,  5.18631798,  5.18376295,  5.18121713,  5.17868048,\n",
       "        5.17615296,  5.17363455,  5.17112521,  5.16862491,  5.16613361,\n",
       "        5.16365129,  5.16117791,  5.15871344,  5.15625784,  5.15381109,\n",
       "        5.15137315,  5.148944  ,  5.14652359,  5.1441119 ,  5.1417089 ,\n",
       "        5.13931455,  5.13692883,  5.1345517 ,  5.13218314,  5.1298231 ,\n",
       "        5.12747157,  5.1251285 ,  5.12279388,  5.12046766,  5.11814983,\n",
       "        5.11584034,  5.11353917,  5.11124629,  5.10896167,  5.10668527,\n",
       "        5.10441708,  5.10215706,  5.09990518,  5.0976614 ,  5.09542571,\n",
       "        5.09319808,  5.09097846,  5.08876685,  5.08656319,  5.08436748,\n",
       "        5.08217967,  5.07999975,  5.07782768,  5.07566343,  5.07350697,\n",
       "        5.07135828,  5.06921734,  5.0670841 ,  5.06495855,  5.06284065,\n",
       "        5.06073039,  5.05862772,  5.05653263,  5.05444508,  5.05236505,\n",
       "        5.05029252,  5.04822745,  5.04616982,  5.0441196 ,  5.04207676,\n",
       "        5.04004129,  5.03801314,  5.0359923 ,  5.03397874,  5.03197243,\n",
       "        5.02997335,  5.02798147,  5.02599676,  5.0240192 ,  5.02204877,\n",
       "        5.02008543,  5.01812917,  5.01617995,  5.01423775,  5.01230255,\n",
       "        5.01037431,  5.00845303,  5.00653866,  5.00463119,  5.00273059,\n",
       "        5.00083684,  4.9989499 ,  4.99706977,  4.9951964 ,  4.99332979,\n",
       "        4.99146989,  4.9896167 ,  4.98777018,  4.98593031,  4.98409707,\n",
       "        4.98227043,  4.98045038,  4.97863687,  4.9768299 ,  4.97502944,\n",
       "        4.97323547,  4.97144795,  4.96966687,  4.96789221,  4.96612395,\n",
       "        4.96436205,  4.96260649,  4.96085726,  4.95911433,  4.95737768,\n",
       "        4.95564729,  4.95392312,  4.95220517,  4.95049341,  4.94878781,\n",
       "        4.94708835,  4.94539502,  4.94370778,  4.94202663,  4.94035152,\n",
       "        4.93868246,  4.9370194 ,  4.93536233,  4.93371123,  4.93206608,\n",
       "        4.93042686,  4.92879354,  4.9271661 ,  4.92554453,  4.92392879,\n",
       "        4.92231888,  4.92071476,  4.91911642,  4.91752384,  4.915937  ,\n",
       "        4.91435587,  4.91278043,  4.91121067,  4.90964657,  4.9080881 ,\n",
       "        4.90653524,  4.90498798,  4.90344629,  4.90191015,  4.90037954,\n",
       "        4.89885445,  4.89733485,  4.89582073,  4.89431206,  4.89280882,\n",
       "        4.891311  ,  4.88981857,  4.88833152,  4.88684982,  4.88537346,\n",
       "        4.88390242,  4.88243668,  4.88097622,  4.87952102,  4.87807106,\n",
       "        4.87662632,  4.87518678,  4.87375243,  4.87232325,  4.87089922,\n",
       "        4.86948031,  4.86806652,  4.86665782,  4.86525419,  4.86385562,\n",
       "        4.86246208,  4.86107357,  4.85969005,  4.85831152,  4.85693796,\n",
       "        4.85556934,  4.85420565,  4.85284687,  4.85149299,  4.85014399,\n",
       "        4.84879984,  4.84746054,  4.84612606,  4.84479638,  4.8434715 ,\n",
       "        4.84215138,  4.84083603,  4.83952541,  4.83821951,  4.83691831,\n",
       "        4.83562181,  4.83432997,  4.83304278,  4.83176023,  4.83048231,\n",
       "        4.82920898,  4.82794024,  4.82667607,  4.82541645,  4.82416138,\n",
       "        4.82291082,  4.82166476,  4.8204232 ,  4.8191861 ,  4.81795347,\n",
       "        4.81672527,  4.81550149,  4.81428213,  4.81306715,  4.81185656,\n",
       "        4.81065032,  4.80944843,  4.80825086,  4.80705761,  4.80586866,\n",
       "        4.80468399,  4.80350359,  4.80232744,  4.80115553,  4.79998784,\n",
       "        4.79882435,  4.79766505,  4.79650993,  4.79535897,  4.79421216,\n",
       "        4.79306948,  4.79193091,  4.79079644,  4.78966606,  4.78853976,\n",
       "        4.7874175 ,  4.7862993 ,  4.78518511,  4.78407495,  4.78296878,\n",
       "        4.78186659,  4.78076838,  4.77967412,  4.7785838 ,  4.77749741,\n",
       "        4.77641493,  4.77533635,  4.77426166,  4.77319084,  4.77212387,\n",
       "        4.77106075,  4.77000146,  4.76894598,  4.7678943 ,  4.76684642,\n",
       "        4.7658023 ,  4.76476195,  4.76372535,  4.76269247,  4.76166332,\n",
       "        4.76063788,  4.75961613,  4.75859806,  4.75758366,  4.75657291,\n",
       "        4.7555658 ,  4.75456232,  4.75356245,  4.75256619,  4.75157351,\n",
       "        4.75058441,  4.74959887,  4.74861688,  4.74763843,  4.7466635 ,\n",
       "        4.74569209,  4.74472417,  4.74375974,  4.74279878,  4.74184129,\n",
       "        4.74088724,  4.73993663,  4.73898945,  4.73804567,  4.7371053 ,\n",
       "        4.73616831,  4.7352347 ,  4.73430445,  4.73337755,  4.73245399,\n",
       "        4.73153376,  4.73061684,  4.72970322,  4.7287929 ,  4.72788585,\n",
       "        4.72698207,  4.72608155,  4.72518427,  4.72429022,  4.72339939,\n",
       "        4.72251177,  4.72162735,  4.72074611,  4.71986805,  4.71899315,\n",
       "        4.7181214 ,  4.71725279,  4.71638731,  4.71552495,  4.71466569,\n",
       "        4.71380953,  4.71295645,  4.71210645,  4.71125951,  4.71041561,\n",
       "        4.70957476,  4.70873694,  4.70790213,  4.70707033,  4.70624153,\n",
       "        4.70541571,  4.70459287,  4.70377299,  4.70295606,  4.70214208,\n",
       "        4.70133103,  4.7005229 ,  4.69971768,  4.69891536,  4.69811593,\n",
       "        4.69731938,  4.6965257 ,  4.69573487,  4.6949469 ,  4.69416177,\n",
       "        4.69337946,  4.69259997,  4.69182329,  4.6910494 ,  4.69027831,\n",
       "        4.68950999,  4.68874444,  4.68798164,  4.68722159,  4.68646428,\n",
       "        4.6857097 ,  4.68495784,  4.68420868,  4.68346223,  4.68271846,\n",
       "        4.68197737,  4.68123895,  4.68050319,  4.67977008,  4.67903961,\n",
       "        4.67831177,  4.67758656,  4.67686395,  4.67614395,  4.67542654,\n",
       "        4.67471172,  4.67399947,  4.67328979,  4.67258266,  4.67187808,\n",
       "        4.67117604,  4.67047652,  4.66977953,  4.66908504,  4.66839306,\n",
       "        4.66770357,  4.66701656,  4.66633203,  4.66564997,  4.66497036,\n",
       "        4.6642932 ,  4.66361847,  4.66294618,  4.66227631,  4.66160885,\n",
       "        4.6609438 ,  4.66028114,  4.65962087,  4.65896298,  4.65830745,\n",
       "        4.65765429,  4.65700348,  4.65635502,  4.65570889,  4.65506509,\n",
       "        4.6544236 ,  4.65378443,  4.65314756,  4.65251298,  4.65188069,\n",
       "        4.65125068,  4.65062293,  4.64999745,  4.64937422,  4.64875324,\n",
       "        4.64813449,  4.64751797,  4.64690367,  4.64629158,  4.6456817 ,\n",
       "        4.64507402,  4.64446852,  4.64386521,  4.64326406,  4.64266509,\n",
       "        4.64206827,  4.6414736 ,  4.64088107,  4.64029068,  4.63970241,\n",
       "        4.63911626,  4.63853223,  4.63795029,  4.63737046,  4.63679271,\n",
       "        4.63621704,  4.63564345,  4.63507192,  4.63450245,  4.63393503,\n",
       "        4.63336966,  4.63280632,  4.63224501,  4.63168573,  4.63112845,\n",
       "        4.63057319,  4.63001992,  4.62946865,  4.62891937,  4.62837206,\n",
       "        4.62782672,  4.62728335,  4.62674193,  4.62620247,  4.62566495,\n",
       "        4.62512936,  4.62459571,  4.62406397,  4.62353415,  4.62300624,\n",
       "        4.62248023,  4.62195612,  4.62143389,  4.62091355,  4.62039507,\n",
       "        4.61987847,  4.61936373,  4.61885084,  4.6183398 ,  4.6178306 ,\n",
       "        4.61732323,  4.61681769,  4.61631397,  4.61581207,  4.61531197,\n",
       "        4.61481368,  4.61431718,  4.61382246,  4.61332954,  4.61283838,\n",
       "        4.612349  ,  4.61186137,  4.61137551,  4.61089139,  4.61040902,\n",
       "        4.60992838,  4.60944948,  4.6089723 ,  4.60849684,  4.6080231 ,\n",
       "        4.60755106,  4.60708071,  4.60661207,  4.60614511,  4.60567983,\n",
       "        4.60521623,  4.6047543 ,  4.60429404,  4.60383543,  4.60337847,\n",
       "        4.60292316,  4.60246949,  4.60201745,  4.60156704,  4.60111826,\n",
       "        4.60067109,  4.60022553,  4.59978157,  4.59933922,  4.59889846,\n",
       "        4.59845928,  4.59802169,  4.59758567,  4.59715123,  4.59671835,\n",
       "        4.59628702,  4.59585726,  4.59542904,  4.59500236,  4.59457722,\n",
       "        4.59415361,  4.59373152,  4.59331096,  4.59289191,  4.59247437,\n",
       "        4.59205834,  4.5916438 ,  4.59123076,  4.5908192 ,  4.59040913,\n",
       "        4.59000053,  4.58959341,  4.58918775,  4.58878355,  4.58838081,\n",
       "        4.58797952,  4.58757968,  4.58718127,  4.5867843 ,  4.58638876,\n",
       "        4.58599465,  4.58560195,  4.58521067,  4.5848208 ,  4.58443233,\n",
       "        4.58404526,  4.58365959,  4.58327531,  4.5828924 ,  4.58251088,\n",
       "        4.58213074,  4.58175196,  4.58137454,  4.58099849,  4.58062379,\n",
       "        4.58025044,  4.57987844,  4.57950777,  4.57913844,  4.57877044,\n",
       "        4.57840377,  4.57803841,  4.57767437,  4.57731165,  4.57695023,\n",
       "        4.57659011,  4.57623129,  4.57587376,  4.57551752,  4.57516256,\n",
       "        4.57480888,  4.57445648,  4.57410534,  4.57375547,  4.57340686,\n",
       "        4.57305951,  4.5727134 ,  4.57236854,  4.57202493,  4.57168255,\n",
       "        4.57134141,  4.57100149,  4.5706628 ,  4.57032533,  4.56998908,\n",
       "        4.56965403,  4.56932019,  4.56898756,  4.56865612,  4.56832588,\n",
       "        4.56799682,  4.56766896,  4.56734227,  4.56701676,  4.56669242,\n",
       "        4.56636925,  4.56604724,  4.5657264 ,  4.56540671,  4.56508817,\n",
       "        4.56477078,  4.56445453,  4.56413942,  4.56382544,  4.5635126 ,\n",
       "        4.56320088,  4.56289029,  4.56258082,  4.56227246,  4.56196521,\n",
       "        4.56165906,  4.56135402,  4.56105008,  4.56074723,  4.56044548,\n",
       "        4.56014481,  4.55984522,  4.55954672,  4.55924929,  4.55895293,\n",
       "        4.55865763,  4.5583634 ,  4.55807023,  4.55777812,  4.55748706,\n",
       "        4.55719705,  4.55690808,  4.55662015,  4.55633326,  4.5560474 ,\n",
       "        4.55576258,  4.55547878,  4.555196  ,  4.55491424,  4.55463349,\n",
       "        4.55435376,  4.55407503,  4.55379731,  4.55352058,  4.55324486,\n",
       "        4.55297012,  4.55269638,  4.55242362,  4.55215185,  4.55188105,\n",
       "        4.55161123,  4.55134239,  4.55107451,  4.55080759,  4.55054164,\n",
       "        4.55027664,  4.5500126 ,  4.54974951,  4.54948737,  4.54922617,\n",
       "        4.54896591,  4.54870659,  4.5484482 ,  4.54819075,  4.54793422,\n",
       "        4.54767862,  4.54742393,  4.54717017,  4.54691731,  4.54666537,\n",
       "        4.54641434,  4.54616421,  4.54591498,  4.54566665,  4.54541921,\n",
       "        4.54517267,  4.54492701,  4.54468224,  4.54443835,  4.54419534,\n",
       "        4.5439532 ,  4.54371194,  4.54347154,  4.54323201,  4.54299334,\n",
       "        4.54275554,  4.54251859,  4.54228249,  4.54204724,  4.54181284,\n",
       "        4.54157929,  4.54134657,  4.5411147 ,  4.54088366,  4.54065345,\n",
       "        4.54042407,  4.54019552,  4.53996779,  4.53974088,  4.53951478,\n",
       "        4.53928951,  4.53906504,  4.53884138,  4.53861853,  4.53839648,\n",
       "        4.53817523,  4.53795478,  4.53773512,  4.53751625,  4.53729817,\n",
       "        4.53708088,  4.53686437,  4.53664864,  4.53643368,  4.5362195 ,\n",
       "        4.5360061 ,  4.53579346,  4.53558158,  4.53537047,  4.53516012,\n",
       "        4.53495053,  4.53474169,  4.53453361,  4.53432627,  4.53411968,\n",
       "        4.53391384,  4.53370873,  4.53350437,  4.53330074,  4.53309784,\n",
       "        4.53289568,  4.53269424,  4.53249353,  4.53229355,  4.53209428,\n",
       "        4.53189573,  4.53169789,  4.53150077,  4.53130436,  4.53110866,\n",
       "        4.53091366,  4.53071936,  4.53052576,  4.53033286,  4.53014066,\n",
       "        4.52994915,  4.52975832,  4.52956819,  4.52937874,  4.52918997,\n",
       "        4.52900188,  4.52881447,  4.52862773,  4.52844167,  4.52825628,\n",
       "        4.52807155,  4.52788749,  4.52770409,  4.52752136,  4.52733928,\n",
       "        4.52715786,  4.52697709,  4.52679697,  4.5266175 ,  4.52643868,\n",
       "        4.5262605 ,  4.52608297,  4.52590607,  4.52572981,  4.52555418,\n",
       "        4.52537919,  4.52520483,  4.52503109,  4.52485799,  4.5246855 ,\n",
       "        4.52451364,  4.52434239,  4.52417177,  4.52400175,  4.52383235,\n",
       "        4.52366356,  4.52349538,  4.5233278 ,  4.52316083,  4.52299446,\n",
       "        4.52282868,  4.52266351,  4.52249893,  4.52233494,  4.52217154,\n",
       "        4.52200874,  4.52184651,  4.52168488,  4.52152382,  4.52136335,\n",
       "        4.52120345,  4.52104413,  4.52088538,  4.5207272 ,  4.5205696 ,\n",
       "        4.52041256,  4.52025609,  4.52010018,  4.51994483,  4.51979004,\n",
       "        4.51963581,  4.51948214,  4.51932902,  4.51917645,  4.51902443,\n",
       "        4.51887295,  4.51872203,  4.51857164,  4.5184218 ,  4.5182725 ,\n",
       "        4.51812373,  4.51797551,  4.51782781,  4.51768065,  4.51753402,\n",
       "        4.51738791,  4.51724233,  4.51709728,  4.51695275,  4.51680874,\n",
       "        4.51666525,  4.51652227,  4.51637981,  4.51623786,  4.51609643])"
      ]
     },
     "execution_count": 298,
     "metadata": {},
     "output_type": "execute_result"
    }
   ],
   "source": [
    "cost"
   ]
  },
  {
   "cell_type": "code",
   "execution_count": 299,
   "id": "1b89c8c7-baa3-4b03-8c72-787ad712b17f",
   "metadata": {},
   "outputs": [
    {
     "data": {
      "text/plain": [
       "matrix([[ 1.12717549],\n",
       "        [-3.24022043]])"
      ]
     },
     "execution_count": 299,
     "metadata": {},
     "output_type": "execute_result"
    }
   ],
   "source": [
    "theta"
   ]
  },
  {
   "cell_type": "code",
   "execution_count": 300,
   "id": "77ff2e88-6725-47f3-b125-948d63720855",
   "metadata": {},
   "outputs": [
    {
     "data": {
      "image/png": "[encoded data removed]",
      "text/plain": [
       "<Figure size 640x480 with 1 Axes>"
      ]
     },
     "metadata": {},
     "output_type": "display_data"
    }
   ],
   "source": [
    "linerregression_x = np.linspace(min(df['population']), max(df['population']), 1000)  \n",
    "linerregression_y = linerregression_x * theta[0,0] + theta[1,0]\n",
    "plt.figure()\n",
    "plt.title('Training data with linear regression fit')\n",
    "plt.scatter(df['population'],df['profit'],color = 'r',marker = 'x',label='Traning Data')\n",
    "plt.plot(linerregression_x,linerregression_y,color = 'b',label='Linear regression')\n",
    "plt.legend(loc=2)\n",
    "plt.xlabel('Population of City in 10,000s')\n",
    "plt.ylabel('Profit in $10,000s')\n",
    "plt.show()"
   ]
  },
  {
   "cell_type": "code",
   "execution_count": 301,
   "id": "9a69bcd0-aa52-4252-8bc8-51422cb52429",
   "metadata": {},
   "outputs": [],
   "source": [
    "#profits in areas of 35,000\n",
    "predicate_35 = np.matrix(np.array([35,1]))\n",
    "#profits in areas of 35,000\n",
    "predicate_70 = np.matrix(np.array([70,1]))"
   ]
  },
  {
   "cell_type": "code",
   "execution_count": 302,
   "id": "7f5be3e1-f59a-433f-8e2c-4b8230e23485",
   "metadata": {},
   "outputs": [
    {
     "data": {
      "text/plain": [
       "matrix([[ 1.12717549],\n",
       "        [-3.24022043]])"
      ]
     },
     "execution_count": 302,
     "metadata": {},
     "output_type": "execute_result"
    }
   ],
   "source": [
    "theta"
   ]
  },
  {
   "cell_type": "code",
   "execution_count": 303,
   "id": "e363f0b3-c3fe-491d-8d6d-6007fb7495fc",
   "metadata": {},
   "outputs": [
    {
     "name": "stdout",
     "output_type": "stream",
     "text": [
      "profits in areas of 35,000 is 36.210921603853464\n",
      "profits in areas of 70,000 is 75.66206364146339\n"
     ]
    }
   ],
   "source": [
    "predicate_result_35 = predicate_35*theta\n",
    "predicate_result_70 = predicate_70*theta\n",
    "print('profits in areas of 35,000 is',predicate_result_35[0,0])\n",
    "print('profits in areas of 70,000 is',predicate_result_70[0,0])"
   ]
  },
  {
   "cell_type": "code",
   "execution_count": 304,
   "id": "98ba3691-8852-486d-9096-fed5c559c065",
   "metadata": {},
   "outputs": [
    {
     "data": {
      "text/plain": [
       "(1000,)"
      ]
     },
     "execution_count": 304,
     "metadata": {},
     "output_type": "execute_result"
    }
   ],
   "source": [
    "cost.shape"
   ]
  },
  {
   "cell_type": "code",
   "execution_count": 305,
   "id": "f2bf3087-564a-41c0-82ae-d09947e3ff77",
   "metadata": {},
   "outputs": [
    {
     "data": {
      "text/plain": [
       "[<matplotlib.lines.Line2D at 0x23c6f5da850>]"
      ]
     },
     "execution_count": 305,
     "metadata": {},
     "output_type": "execute_result"
    },
    {
     "data": {
      "image/png": "[encoded data removed]",
      "text/plain": [
       "<Figure size 640x480 with 1 Axes>"
      ]
     },
     "metadata": {},
     "output_type": "display_data"
    }
   ],
   "source": [
    "iteration_x = np.linspace(1, 1000, 1000)\n",
    "plt.figure()\n",
    "plt.plot(iteration_x,cost,label='Error sum of squares')"
   ]
  },
  {
   "cell_type": "markdown",
   "id": "d8e74a0d-495c-441f-bfe5-3090c2d5c9a0",
   "metadata": {},
   "source": [
    "# Linear regression with multiple variables"
   ]
  },
  {
   "cell_type": "code",
   "execution_count": 306,
   "id": "cdf87393-a2d6-4b03-8027-7424b47a87cc",
   "metadata": {},
   "outputs": [],
   "source": [
    "path_ex1data2 = r'G:\\360MoveData\\Users\\Administrator\\Desktop\\path_data\\path_jupyter\\ex1\\ex1data2.txt'"
   ]
  },
  {
   "cell_type": "code",
   "execution_count": 307,
   "id": "065b8c26-d26b-4fa1-a2d4-529eb2500be5",
   "metadata": {},
   "outputs": [
    {
     "data": {
      "text/html": [
       "<div>\n",
       "<style scoped>\n",
       "    .dataframe tbody tr th:only-of-type {\n",
       "        vertical-align: middle;\n",
       "    }\n",
       "\n",
       "    .dataframe tbody tr th {\n",
       "        vertical-align: top;\n",
       "    }\n",
       "\n",
       "    .dataframe thead th {\n",
       "        text-align: right;\n",
       "    }\n",
       "</style>\n",
       "<table border=\"1\" class=\"dataframe\">\n",
       "  <thead>\n",
       "    <tr style=\"text-align: right;\">\n",
       "      <th></th>\n",
       "      <th>size of the house</th>\n",
       "      <th>the number of bedrooms</th>\n",
       "      <th>the price of the house</th>\n",
       "    </tr>\n",
       "  </thead>\n",
       "  <tbody>\n",
       "    <tr>\n",
       "      <th>0</th>\n",
       "      <td>2104</td>\n",
       "      <td>3</td>\n",
       "      <td>399900</td>\n",
       "    </tr>\n",
       "    <tr>\n",
       "      <th>1</th>\n",
       "      <td>1600</td>\n",
       "      <td>3</td>\n",
       "      <td>329900</td>\n",
       "    </tr>\n",
       "    <tr>\n",
       "      <th>2</th>\n",
       "      <td>2400</td>\n",
       "      <td>3</td>\n",
       "      <td>369000</td>\n",
       "    </tr>\n",
       "    <tr>\n",
       "      <th>3</th>\n",
       "      <td>1416</td>\n",
       "      <td>2</td>\n",
       "      <td>232000</td>\n",
       "    </tr>\n",
       "    <tr>\n",
       "      <th>4</th>\n",
       "      <td>3000</td>\n",
       "      <td>4</td>\n",
       "      <td>539900</td>\n",
       "    </tr>\n",
       "  </tbody>\n",
       "</table>\n",
       "</div>"
      ],
      "text/plain": [
       "   size of the house  the number of bedrooms  the price of the house\n",
       "0               2104                       3                  399900\n",
       "1               1600                       3                  329900\n",
       "2               2400                       3                  369000\n",
       "3               1416                       2                  232000\n",
       "4               3000                       4                  539900"
      ]
     },
     "execution_count": 307,
     "metadata": {},
     "output_type": "execute_result"
    }
   ],
   "source": [
    "data = pd.read_csv(path_ex1data2,names=['size of the house','the number of bedrooms','the price of the house'])\n",
    "data.head()"
   ]
  },
  {
   "cell_type": "code",
   "execution_count": 308,
   "id": "0096a5d7-0a63-4064-84f8-ca88467b8ddd",
   "metadata": {},
   "outputs": [
    {
     "data": {
      "text/plain": [
       "Index(['size of the house', 'the number of bedrooms',\n",
       "       'the price of the house'],\n",
       "      dtype='object')"
      ]
     },
     "execution_count": 308,
     "metadata": {},
     "output_type": "execute_result"
    }
   ],
   "source": [
    "data.columns"
   ]
  },
  {
   "cell_type": "code",
   "execution_count": 309,
   "id": "dfcb0559-f275-442d-b307-c3082bff5e0a",
   "metadata": {},
   "outputs": [],
   "source": [
    "x1 = np.matrix(data['size of the house']).T\n",
    "x2 = np.matrix(data['the number of bedrooms']).T\n",
    "y = np.matrix(data['the price of the house']).T"
   ]
  },
  {
   "cell_type": "markdown",
   "id": "d38d9f2f-ef2f-4a22-95ea-6017c9dc7adf",
   "metadata": {},
   "source": [
    "## 特征缩放"
   ]
  },
  {
   "cell_type": "code",
   "execution_count": 310,
   "id": "b1b0b651-221c-4dab-a9b8-4df751814211",
   "metadata": {},
   "outputs": [
    {
     "data": {
      "text/html": [
       "<div>\n",
       "<style scoped>\n",
       "    .dataframe tbody tr th:only-of-type {\n",
       "        vertical-align: middle;\n",
       "    }\n",
       "\n",
       "    .dataframe tbody tr th {\n",
       "        vertical-align: top;\n",
       "    }\n",
       "\n",
       "    .dataframe thead th {\n",
       "        text-align: right;\n",
       "    }\n",
       "</style>\n",
       "<table border=\"1\" class=\"dataframe\">\n",
       "  <thead>\n",
       "    <tr style=\"text-align: right;\">\n",
       "      <th></th>\n",
       "      <th>size of the house</th>\n",
       "      <th>the number of bedrooms</th>\n",
       "      <th>the price of the house</th>\n",
       "    </tr>\n",
       "  </thead>\n",
       "  <tbody>\n",
       "    <tr>\n",
       "      <th>count</th>\n",
       "      <td>47.000000</td>\n",
       "      <td>47.000000</td>\n",
       "      <td>47.000000</td>\n",
       "    </tr>\n",
       "    <tr>\n",
       "      <th>mean</th>\n",
       "      <td>2000.680851</td>\n",
       "      <td>3.170213</td>\n",
       "      <td>340412.659574</td>\n",
       "    </tr>\n",
       "    <tr>\n",
       "      <th>std</th>\n",
       "      <td>794.702354</td>\n",
       "      <td>0.760982</td>\n",
       "      <td>125039.899586</td>\n",
       "    </tr>\n",
       "    <tr>\n",
       "      <th>min</th>\n",
       "      <td>852.000000</td>\n",
       "      <td>1.000000</td>\n",
       "      <td>169900.000000</td>\n",
       "    </tr>\n",
       "    <tr>\n",
       "      <th>25%</th>\n",
       "      <td>1432.000000</td>\n",
       "      <td>3.000000</td>\n",
       "      <td>249900.000000</td>\n",
       "    </tr>\n",
       "    <tr>\n",
       "      <th>50%</th>\n",
       "      <td>1888.000000</td>\n",
       "      <td>3.000000</td>\n",
       "      <td>299900.000000</td>\n",
       "    </tr>\n",
       "    <tr>\n",
       "      <th>75%</th>\n",
       "      <td>2269.000000</td>\n",
       "      <td>4.000000</td>\n",
       "      <td>384450.000000</td>\n",
       "    </tr>\n",
       "    <tr>\n",
       "      <th>max</th>\n",
       "      <td>4478.000000</td>\n",
       "      <td>5.000000</td>\n",
       "      <td>699900.000000</td>\n",
       "    </tr>\n",
       "  </tbody>\n",
       "</table>\n",
       "</div>"
      ],
      "text/plain": [
       "       size of the house  the number of bedrooms  the price of the house\n",
       "count          47.000000               47.000000               47.000000\n",
       "mean         2000.680851                3.170213           340412.659574\n",
       "std           794.702354                0.760982           125039.899586\n",
       "min           852.000000                1.000000           169900.000000\n",
       "25%          1432.000000                3.000000           249900.000000\n",
       "50%          1888.000000                3.000000           299900.000000\n",
       "75%          2269.000000                4.000000           384450.000000\n",
       "max          4478.000000                5.000000           699900.000000"
      ]
     },
     "execution_count": 310,
     "metadata": {},
     "output_type": "execute_result"
    }
   ],
   "source": [
    "data.describe()"
   ]
  },
  {
   "cell_type": "code",
   "execution_count": 311,
   "id": "5cae1985-a2b1-48d9-82bf-ee9175dc471f",
   "metadata": {},
   "outputs": [],
   "source": [
    "x1 = (x1 - x1.mean())/x1.std()\n",
    "x2 = (x2 - x2.mean())/x2.std()"
   ]
  },
  {
   "cell_type": "code",
   "execution_count": 312,
   "id": "c88e301d-a6c2-478a-ab75-98a654707450",
   "metadata": {},
   "outputs": [],
   "source": [
    "ones_matrix = np.matrix(np.ones(len(x1))).T"
   ]
  },
  {
   "cell_type": "code",
   "execution_count": 361,
   "id": "a000eaad-d037-44f4-a8b9-26ae0743d228",
   "metadata": {},
   "outputs": [
    {
     "data": {
      "text/plain": [
       "matrix([[ 1.31415422e-01, -2.26093368e-01,  1.00000000e+00],\n",
       "        [-5.09640698e-01, -2.26093368e-01,  1.00000000e+00],\n",
       "        [ 5.07908699e-01, -2.26093368e-01,  1.00000000e+00],\n",
       "        [-7.43677059e-01, -1.55439190e+00,  1.00000000e+00],\n",
       "        [ 1.27107075e+00,  1.10220517e+00,  1.00000000e+00],\n",
       "        [-1.99450507e-02,  1.10220517e+00,  1.00000000e+00],\n",
       "        [-5.93588523e-01, -2.26093368e-01,  1.00000000e+00],\n",
       "        [-7.29685755e-01, -2.26093368e-01,  1.00000000e+00],\n",
       "        [-7.89466782e-01, -2.26093368e-01,  1.00000000e+00],\n",
       "        [-6.44465993e-01, -2.26093368e-01,  1.00000000e+00],\n",
       "        [-7.71822042e-02,  1.10220517e+00,  1.00000000e+00],\n",
       "        [-8.65999486e-04, -2.26093368e-01,  1.00000000e+00],\n",
       "        [-1.40779041e-01, -2.26093368e-01,  1.00000000e+00],\n",
       "        [ 3.15099326e+00,  2.43050370e+00,  1.00000000e+00],\n",
       "        [-9.31923697e-01, -2.26093368e-01,  1.00000000e+00],\n",
       "        [ 3.80715024e-01,  1.10220517e+00,  1.00000000e+00],\n",
       "        [-8.65782986e-01, -1.55439190e+00,  1.00000000e+00],\n",
       "        [-9.72625673e-01, -2.26093368e-01,  1.00000000e+00],\n",
       "        [ 7.73743478e-01,  1.10220517e+00,  1.00000000e+00],\n",
       "        [ 1.31050078e+00,  1.10220517e+00,  1.00000000e+00],\n",
       "        [-2.97227261e-01, -2.26093368e-01,  1.00000000e+00],\n",
       "        [-1.43322915e-01, -1.55439190e+00,  1.00000000e+00],\n",
       "        [-5.04552951e-01, -2.26093368e-01,  1.00000000e+00],\n",
       "        [-4.91995958e-02,  1.10220517e+00,  1.00000000e+00],\n",
       "        [ 2.40309445e+00, -2.26093368e-01,  1.00000000e+00],\n",
       "        [-1.14560907e+00, -2.26093368e-01,  1.00000000e+00],\n",
       "        [-6.90255715e-01, -2.26093368e-01,  1.00000000e+00],\n",
       "        [ 6.68172729e-01, -2.26093368e-01,  1.00000000e+00],\n",
       "        [ 2.53521350e-01, -2.26093368e-01,  1.00000000e+00],\n",
       "        [ 8.09357707e-01, -2.26093368e-01,  1.00000000e+00],\n",
       "        [-2.05647815e-01, -1.55439190e+00,  1.00000000e+00],\n",
       "        [-1.27280274e+00, -2.88269044e+00,  1.00000000e+00],\n",
       "        [ 5.00114703e-02,  1.10220517e+00,  1.00000000e+00],\n",
       "        [ 1.44532608e+00, -2.26093368e-01,  1.00000000e+00],\n",
       "        [-2.41262044e-01,  1.10220517e+00,  1.00000000e+00],\n",
       "        [-7.16966387e-01, -2.26093368e-01,  1.00000000e+00],\n",
       "        [-9.68809863e-01, -2.26093368e-01,  1.00000000e+00],\n",
       "        [ 1.67029651e-01,  1.10220517e+00,  1.00000000e+00],\n",
       "        [ 2.81647389e+00,  1.10220517e+00,  1.00000000e+00],\n",
       "        [ 2.05187753e-01,  1.10220517e+00,  1.00000000e+00],\n",
       "        [-4.28236746e-01, -1.55439190e+00,  1.00000000e+00],\n",
       "        [ 3.01854946e-01, -2.26093368e-01,  1.00000000e+00],\n",
       "        [ 7.20322135e-01,  1.10220517e+00,  1.00000000e+00],\n",
       "        [-1.01841540e+00, -2.26093368e-01,  1.00000000e+00],\n",
       "        [-1.46104938e+00, -1.55439190e+00,  1.00000000e+00],\n",
       "        [-1.89112638e-01,  1.10220517e+00,  1.00000000e+00],\n",
       "        [-1.01459959e+00, -2.26093368e-01,  1.00000000e+00]])"
      ]
     },
     "execution_count": 361,
     "metadata": {},
     "output_type": "execute_result"
    }
   ],
   "source": [
    "xM = np.concatenate((x1,x2,ones_matrix),axis=1)\n",
    "\n",
    "thetaMultiple = np.matrix(np.zeros(3)).T\n",
    "xM"
   ]
  },
  {
   "cell_type": "code",
   "execution_count": 314,
   "id": "eb598f1d-1d00-4c6d-bf98-f4bbb65b8c0e",
   "metadata": {},
   "outputs": [
    {
     "data": {
      "text/plain": [
       "matrix([[0.],\n",
       "        [0.],\n",
       "        [0.]])"
      ]
     },
     "execution_count": 314,
     "metadata": {},
     "output_type": "execute_result"
    }
   ],
   "source": [
    "thetaMultiple"
   ]
  },
  {
   "cell_type": "code",
   "execution_count": 372,
   "id": "8da753ef-6289-4c60-885a-02bfcad68535",
   "metadata": {},
   "outputs": [],
   "source": [
    "def linerRegressionM(x,thetaM):\n",
    "    y = x * thetaM\n",
    "\n",
    "    return y"
   ]
  },
  {
   "cell_type": "code",
   "execution_count": 376,
   "id": "f7e2a5de-50b0-403d-801a-c2a53787b722",
   "metadata": {},
   "outputs": [],
   "source": [
    "def gradientDescentMultiple(x,y,iteration,learningRate):\n",
    "\n",
    "    # x:变量\n",
    "    # y:实际值\n",
    "    # iteration：迭代次数\n",
    "    # learningRate:学习率\n",
    "    \n",
    "    cost = np.zeros(iteration) #初始化成本矩阵,记录每一次迭代的成本值\n",
    "    thetaM = np.matrix(np.zeros([x.shape[1],1])) #初始化参数矩阵[w1,w2,b],列向量\n",
    "    temp_theta = theta # 初始化暂存参数矩阵\n",
    "    \n",
    "    m = x.shape[0] # 计算输入变量长度\n",
    "\n",
    "    predicteY = linerRegressionM(x,thetaM)\n",
    "    cost[0] =computeCost(y,predicteY)\n",
    "    \n",
    "    count = 1\n",
    "    while count < iteration:\n",
    "\n",
    "        distance = linerRegressionM(x,thetaM)-y #计算线性模型结果与实际结果的差异\n",
    "\n",
    "\n",
    "        for j in range(thetaM.shape[0]):\n",
    "            thetaM[j,0] = thetaM[j,0] - np.multiply(distance, x[:,j]).sum()*learningRate/ m\n",
    "\n",
    "        \n",
    "        predicteY = linerRegressionM(x,thetaM)\n",
    "        cost[count] = computeCost(y,predicteY)\n",
    "        #cost = computeCost(y,predicteY)\n",
    "        \n",
    "        count = count + 1\n",
    "    \n",
    "    return cost,thetaM"
   ]
  },
  {
   "cell_type": "code",
   "execution_count": 438,
   "id": "d117c7c8-f70e-4cf6-ae8e-1474277144c7",
   "metadata": {},
   "outputs": [],
   "source": [
    "iteration = 1500\n",
    "learningRate = 0.01"
   ]
  },
  {
   "cell_type": "code",
   "execution_count": 439,
   "id": "cb78ac81-c778-4528-8a5b-41d8381e2b68",
   "metadata": {},
   "outputs": [],
   "source": [
    "costM,thetaM = gradientDescentMultiple(xM,y,iteration,learningRate)"
   ]
  },
  {
   "cell_type": "code",
   "execution_count": 440,
   "id": "52c52754-e25b-4f26-9461-ccb092ebcd9c",
   "metadata": {},
   "outputs": [
    {
     "data": {
      "text/plain": [
       "Text(0, 0.5, 'Cost J')"
      ]
     },
     "execution_count": 440,
     "metadata": {},
     "output_type": "execute_result"
    },
    {
     "data": {
      "image/png": "[encoded data removed]",
      "text/plain": [
       "<Figure size 640x480 with 1 Axes>"
      ]
     },
     "metadata": {},
     "output_type": "display_data"
    }
   ],
   "source": [
    "iteration_xM = np.linspace(1, 1500, 1500)\n",
    "plt.figure()\n",
    "plt.plot(iteration_xM,costM,color = 'g')\n",
    "plt.xlabel('Number of iteration')\n",
    "plt.ylabel('Cost J')"
   ]
  },
  {
   "cell_type": "markdown",
   "id": "13d3afd9-0531-43fb-a475-ffa7bfc15f30",
   "metadata": {},
   "source": [
    "## 学习率"
   ]
  },
  {
   "cell_type": "code",
   "execution_count": 389,
   "id": "29132a01-d11e-45a5-889e-62fc2dd48ea9",
   "metadata": {},
   "outputs": [],
   "source": [
    "learningRateRange = np.logspace(-4, -1, 4)"
   ]
  },
  {
   "cell_type": "code",
   "execution_count": 390,
   "id": "dfb53ec5-9b46-44c8-a27b-7a5c29d4e12f",
   "metadata": {},
   "outputs": [
    {
     "data": {
      "text/plain": [
       "array([0.0001, 0.001 , 0.01  , 0.1   ])"
      ]
     },
     "execution_count": 390,
     "metadata": {},
     "output_type": "execute_result"
    }
   ],
   "source": [
    "learningRateRange"
   ]
  },
  {
   "cell_type": "code",
   "execution_count": 400,
   "id": "05939563-94b8-4c98-a841-25986c29cda0",
   "metadata": {},
   "outputs": [],
   "source": [
    "a = np.zeros([2,2])"
   ]
  },
  {
   "cell_type": "code",
   "execution_count": 437,
   "id": "0cd09682-9e96-4dba-98d1-90eb6e1dcfde",
   "metadata": {},
   "outputs": [
    {
     "name": "stdout",
     "output_type": "stream",
     "text": [
      "0.0001\n",
      "0.001\n",
      "0.01\n",
      "0.1\n"
     ]
    }
   ],
   "source": [
    "learningRateRange = np.logspace(-4, -1, 4)\n",
    "iteration = 1500\n",
    "costMR = np.zeros([len(learningRateRange),iteration])\n",
    "i = 0\n",
    "for item in learningRateRange:\n",
    "    print(item)\n",
    "    costM,thetaM = gradientDescentMultiple(xM,y,iteration,item)\n",
    "    costMR[i,:] = costM\n",
    "    i = i + 1"
   ]
  },
  {
   "cell_type": "code",
   "execution_count": 430,
   "id": "78b25e8d-ed1d-4003-92a3-afa0ad3c8991",
   "metadata": {},
   "outputs": [
    {
     "data": {
      "text/plain": [
       "array([[6.55915481e+10, 6.55785428e+10, 6.55655402e+10, ...,\n",
       "        4.88766903e+10, 4.88671797e+10, 4.88576712e+10],\n",
       "       [6.55915481e+10, 6.54615565e+10, 6.53318377e+10, ...,\n",
       "        5.37599807e+09, 5.36973662e+09, 5.36348744e+09],\n",
       "       [6.55915481e+10, 6.42977763e+10, 6.30310183e+10, ...,\n",
       "        2.04328278e+09, 2.04328276e+09, 2.04328273e+09],\n",
       "       [6.55915481e+10, 5.32682599e+10, 4.33890843e+10, ...,\n",
       "        2.04328005e+09, 2.04328005e+09, 2.04328005e+09]])"
      ]
     },
     "execution_count": 430,
     "metadata": {},
     "output_type": "execute_result"
    }
   ],
   "source": [
    "costMR"
   ]
  },
  {
   "cell_type": "code",
   "execution_count": 444,
   "id": "21a39cc3-c148-443b-8395-0ec00fd26980",
   "metadata": {},
   "outputs": [
    {
     "data": {
      "text/plain": [
       "<matplotlib.legend.Legend at 0x23c76398b20>"
      ]
     },
     "execution_count": 444,
     "metadata": {},
     "output_type": "execute_result"
    },
    {
     "data": {
      "image/png": "[encoded data removed]",
      "text/plain": [
       "<Figure size 500x300 with 1 Axes>"
      ]
     },
     "metadata": {},
     "output_type": "display_data"
    }
   ],
   "source": [
    "fig, ax = plt.subplots(figsize=(5,3))\n",
    "ax.plot(iteration_xM,costMR[0,:],color = 'r',label='0.0001')\n",
    "ax.plot(iteration_xM,costMR[1,:],color = 'b',label='0.001')\n",
    "ax.plot(iteration_xM,costMR[2,:],color = 'g',label='0.01')\n",
    "ax.plot(iteration_xM,costMR[3,:],color = 'c',label='0.1')\n",
    "ax.legend(loc=1)"
   ]
  },
  {
   "cell_type": "markdown",
   "id": "52fbd6f7-6a66-43df-944f-a9b51b1d75a7",
   "metadata": {},
   "source": [
    "## Normal Equations"
   ]
  },
  {
   "cell_type": "code",
   "execution_count": null,
   "id": "1c00cfe9-e23e-49fa-99e1-0785672f6600",
   "metadata": {},
   "outputs": [],
   "source": []
  }
 ],
 "metadata": {
  "kernelspec": {
   "display_name": "Python 3 (ipykernel)",
   "language": "python",
   "name": "python3"
  },
  "language_info": {
   "codemirror_mode": {
    "name": "ipython",
    "version": 3
   },
   "file_extension": ".py",
   "mimetype": "text/x-python",
   "name": "python",
   "nbconvert_exporter": "python",
   "pygments_lexer": "ipython3",
   "version": "3.8.18"
  }
 },
 "nbformat": 4,
 "nbformat_minor": 5
}
